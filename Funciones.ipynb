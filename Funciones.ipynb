{
 "cells": [
  {
   "cell_type": "code",
   "execution_count": null,
   "metadata": {},
   "outputs": [],
   "source": [
    "from sklearn.feature_extraction.text import TfidfVectorizer\n",
    "from sklearn.neighbors import NearestNeighbors\n",
    "import pandas as pd\n",
    "import numpy as np "
   ]
  },
  {
   "cell_type": "code",
   "execution_count": null,
   "metadata": {},
   "outputs": [],
   "source": [
    "#primera funcion\n",
    "def peliculas_mes(movies, mes):\n",
    "    # Diccionario para convertir el nombre del mes en español a su número\n",
    "    meses = {'enero': 1, 'febrero': 2, 'marzo': 3, 'abril': 4, 'mayo': 5, 'junio': 6,\n",
    "             'julio': 7, 'agosto': 8, 'septiembre': 9, 'octubre': 10, 'noviembre': 11, 'diciembre': 12}\n",
    "    # Convierte el nombre del mes en español a su número\n",
    "    mes_numero = meses.get(mes.lower())\n",
    "    # Verifica si el mes es válido\n",
    "    if mes_numero is None:\n",
    "        return f\"Error: Mes '{mes}' no válido\"\n",
    "    # Filtra el DataFrame por el mes especificado\n",
    "    filtro = movies[movies['release_date'].dt.month == mes_numero]\n",
    "    # Cuenta el número de películas\n",
    "    count = filtro['title'].count()\n",
    "    # Devuelve el resultado en el formato especificado\n",
    "    result = {'mes': mes.capitalize(), 'cantidad': count}\n",
    "    return result"
   ]
  },
  {
   "cell_type": "code",
   "execution_count": null,
   "metadata": {},
   "outputs": [],
   "source": [
    "result = peliculas_mes(movies, 'junio')\n",
    "print(result)"
   ]
  },
  {
   "cell_type": "code",
   "execution_count": null,
   "metadata": {},
   "outputs": [],
   "source": [
    "def peliculas_dia(dia):\n",
    "    # Crea una lista con los días de la semana en español\n",
    "    dias = ['lunes', 'martes', 'miércoles', 'jueves', 'viernes', 'sábado', 'domingo']\n",
    "    # Encuentra el índice del día especificado en la lista de días\n",
    "    dia_index = dias.index(dia.lower())\n",
    "    # Crea una columna con el día de la semana en el DataFrame\n",
    "    movies['dia_semana'] = movies['release_date'].dt.dayofweek\n",
    "    # Filtra el DataFrame por el día especificado\n",
    "    filtro = movies[movies['dia_semana'] == dia_index]\n",
    "    # Cuenta el número total de películas\n",
    "    count = filtro['title'].count()\n",
    "    # Devuelve el resultado en el formato especificado\n",
    "    result = {'dia': dia.capitalize(), 'cantidad': count}\n",
    "    return result"
   ]
  },
  {
   "cell_type": "code",
   "execution_count": null,
   "metadata": {},
   "outputs": [],
   "source": [
    "result = peliculas_dia('lunes')\n",
    "print(result)"
   ]
  },
  {
   "cell_type": "code",
   "execution_count": null,
   "metadata": {},
   "outputs": [],
   "source": [
    "#tercera funcion\n",
    "def franquicia(movies, franquicia):\n",
    "    # Filtra el DataFrame por la franquicia especificada\n",
    "    filtro = movies[movies['belongs_to_collection'] == franquicia]\n",
    "    # Cuenta el número de películas\n",
    "    cantidad = filtro['title'].count()\n",
    "    # Calcula la ganancia total\n",
    "    ganancia_total = filtro['revenue'].sum()\n",
    "    # Calcula la ganancia promedio\n",
    "    ganancia_promedio = filtro['revenue'].mean()\n",
    "    # Devuelve el resultado en el formato especificado\n",
    "    result = {'franquicia': franquicia,\n",
    "              'cantidad': cantidad,\n",
    "              'ganancia_total': ganancia_total,\n",
    "              'ganancia_promedio': ganancia_promedio}\n",
    "    return result"
   ]
  },
  {
   "cell_type": "code",
   "execution_count": null,
   "metadata": {},
   "outputs": [],
   "source": [
    "result = franquicia(movies, 'Toy Story Collection')\n",
    "print(result)"
   ]
  },
  {
   "cell_type": "code",
   "execution_count": null,
   "metadata": {},
   "outputs": [],
   "source": [
    "#cuarta funcion\n",
    "def peliculas_pais(pais):\n",
    "    # Contar la frecuencia de los valores en la columna 'name_countrie'\n",
    "    paises = movies['name_countrie'].value_counts()\n",
    "    \n",
    "    # Obtener la cantidad de películas producidas en el país especificado\n",
    "    respuesta = paises.get(pais, 0)\n",
    "    \n",
    "    # Devolver el resultado\n",
    "    return {'pais': pais, 'cantidad': respuesta}"
   ]
  },
  {
   "cell_type": "code",
   "execution_count": null,
   "metadata": {},
   "outputs": [],
   "source": [
    "resultado = peliculas_pais('United States of America')\n",
    "print(resultado)"
   ]
  },
  {
   "cell_type": "code",
   "execution_count": null,
   "metadata": {},
   "outputs": [],
   "source": [
    "#Quinta funcion \n",
    "def productoras(productora):\n",
    "    # Agrupar los datos por la columna 'production_companies'\n",
    "    grupos = movies.groupby('production_companies')\n",
    "    \n",
    "    # Obtener el grupo correspondiente a la productora especificada\n",
    "    grupo = grupos.get_group(productora)\n",
    "    \n",
    "    # Calcular la ganancia total y la cantidad de películas producidas por la productora\n",
    "    ganancia_total = grupo['revenue'].sum()\n",
    "    cantidad = len(grupo)\n",
    "    \n",
    "    # Devolver el resultado\n",
    "    return {'productora': productora, 'ganancia_total': ganancia_total, 'cantidad': cantidad}"
   ]
  },
  {
   "cell_type": "code",
   "execution_count": null,
   "metadata": {},
   "outputs": [],
   "source": [
    "resultado = productoras('Pixar Animation Studios')\n",
    "print(resultado)"
   ]
  },
  {
   "cell_type": "code",
   "execution_count": null,
   "metadata": {},
   "outputs": [],
   "source": [
    "#sexta funcion\n",
    "def retorno(pelicula):\n",
    "    '''Ingresas la pelicula, retornando la inversion, la ganancia, el retorno y el año en el que se lanzo'''\n",
    "    mask = movies['title'] == pelicula\n",
    "    inversion = movies[mask]['budget'].sum()\n",
    "    ganancia = movies[mask]['revenue'].sum()\n",
    "    retorno = (ganancia - inversion) / inversion if inversion != 0 else 0\n",
    "    anio = movies[mask]['release_year'].sum()\n",
    "    return {'pelicula':pelicula, 'inversion':inversion, 'ganancia':ganancia,'retorno':retorno, 'anio':anio}"
   ]
  },
  {
   "cell_type": "code",
   "execution_count": null,
   "metadata": {},
   "outputs": [],
   "source": [
    "resultado = retorno('Grumpier Old Men')\n",
    "print(resultado)"
   ]
  },
  {
   "cell_type": "code",
   "execution_count": null,
   "metadata": {},
   "outputs": [],
   "source": [
    "#sistema de recomendación\n",
    "def recomendacion(titulo):\n",
    "    # Eliminar los valores NaN de las columnas 'title' y 'genres'\n",
    "    df = movies.dropna(subset=['title', 'genres'])\n",
    "    \n",
    "    # Crear un vectorizador TF-IDF para extraer características de los datos textuales\n",
    "    tfidf = TfidfVectorizer(stop_words='english')\n",
    "    \n",
    "    # Representar cada película como un vector numérico\n",
    "    matriz_tfidf = tfidf.fit_transform(df['title'] + ' ' + df['genres'].apply(lambda x: ' '.join(x) if isinstance(x, list) else ''))\n",
    "    \n",
    "    # Crear un modelo de vecinos más cercanos\n",
    "    modelo_knn = NearestNeighbors(metric='cosine', algorithm='brute')\n",
    "    \n",
    "    # Entrenar el modelo con los datos del DataFrame\n",
    "    modelo_knn.fit(matriz_tfidf)\n",
    "    \n",
    "    # Buscar la película especificada en el DataFrame\n",
    "    pelicula = df[df['title'] == titulo].index[0]\n",
    "    \n",
    "    # Encontrar las 6 películas más similares a la película especificada\n",
    "    distancias, indices = modelo_knn.kneighbors(matriz_tfidf[pelicula], n_neighbors=6)\n",
    "    \n",
    "    # Seleccionar las 5 películas más similares (excluyendo la película especificada)\n",
    "    recomendadas = df.iloc[indices[0][1:]]['title'].tolist()\n",
    "    \n",
    "    # Devolver el resultado\n",
    "    return {'lista recomendada': recomendadas}"
   ]
  },
  {
   "cell_type": "code",
   "execution_count": null,
   "metadata": {},
   "outputs": [],
   "source": [
    "resultado = recomendacion('Toy Story')\n",
    "print(resultado)"
   ]
  }
 ],
 "metadata": {
  "kernelspec": {
   "display_name": "Python 3",
   "language": "python",
   "name": "python3"
  },
  "language_info": {
   "name": "python",
   "version": "3.11.3"
  },
  "orig_nbformat": 4
 },
 "nbformat": 4,
 "nbformat_minor": 2
}
